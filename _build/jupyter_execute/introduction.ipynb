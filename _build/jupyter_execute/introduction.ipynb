{
 "cells": [
  {
   "cell_type": "markdown",
   "metadata": {
    "id": "Y8-aO_mfRI_b"
   },
   "source": [
    "# Titulo introducao teste\n"
   ]
  },
  {
   "cell_type": "markdown",
   "metadata": {
    "id": "h7ftPdERPJIy"
   },
   "source": [
    "Teste rápido\n",
    "\n",
    "$a=1^2$\n"
   ]
  },
  {
   "cell_type": "code",
   "execution_count": 1,
   "metadata": {
    "colab": {
     "base_uri": "https://localhost:8080/",
     "height": 487
    },
    "id": "GTbazG3ANDkp",
    "outputId": "be87191a-fd47-40dc-f444-f8f6636309fb"
   },
   "outputs": [
    {
     "ename": "ModuleNotFoundError",
     "evalue": "No module named 'matplotlib'",
     "output_type": "error",
     "traceback": [
      "\u001b[31m---------------------------------------------------------------------------\u001b[39m",
      "\u001b[31mModuleNotFoundError\u001b[39m                       Traceback (most recent call last)",
      "\u001b[36mCell\u001b[39m\u001b[36m \u001b[39m\u001b[32mIn[1]\u001b[39m\u001b[32m, line 1\u001b[39m\n\u001b[32m----> \u001b[39m\u001b[32m1\u001b[39m \u001b[38;5;28;01mimport\u001b[39;00m\u001b[38;5;250m \u001b[39m\u001b[34;01mmatplotlib\u001b[39;00m\u001b[34;01m.\u001b[39;00m\u001b[34;01mpyplot\u001b[39;00m\u001b[38;5;250m \u001b[39m\u001b[38;5;28;01mas\u001b[39;00m\u001b[38;5;250m \u001b[39m\u001b[34;01mplt\u001b[39;00m\n\u001b[32m      2\u001b[39m \u001b[38;5;28;01mimport\u001b[39;00m\u001b[38;5;250m \u001b[39m\u001b[34;01mnumpy\u001b[39;00m\u001b[38;5;250m \u001b[39m\u001b[38;5;28;01mas\u001b[39;00m\u001b[38;5;250m \u001b[39m\u001b[34;01mnp\u001b[39;00m \u001b[38;5;66;03m# Optional: for generating sample data easily\u001b[39;00m\n\u001b[32m      4\u001b[39m \u001b[38;5;66;03m# --- 1. Create Sample Data ---\u001b[39;00m\n\u001b[32m      5\u001b[39m \u001b[38;5;66;03m# Simple X and Y values\u001b[39;00m\n",
      "\u001b[31mModuleNotFoundError\u001b[39m: No module named 'matplotlib'"
     ]
    }
   ],
   "source": [
    "import matplotlib.pyplot as plt\n",
    "import numpy as np # Optional: for generating sample data easily\n",
    "\n",
    "# --- 1. Create Sample Data ---\n",
    "# Simple X and Y values\n",
    "x_data = [1, 2, 3, 4, 5]\n",
    "y_data = [2, 4, 1, 3, 5]\n",
    "\n",
    "# Or, using NumPy for more complex data (e.g., a sine wave)\n",
    "# x_data_np = np.linspace(0, 10, 100)  # 100 points from 0 to 10\n",
    "# y_data_np = np.sin(x_data_np)\n",
    "\n",
    "# --- 2. Create the Plot ---\n",
    "plt.figure(figsize=(8, 5)) # Optional: to set the figure size\n",
    "\n",
    "# Plotting the simple X and Y values\n",
    "plt.plot(x_data, y_data, marker='o', linestyle='-', color='b', label='My Data')\n",
    "\n",
    "# If using the NumPy data, uncomment the line below:\n",
    "# plt.plot(x_data_np, y_data_np, linestyle='--', color='r', label='Sine Wave')\n",
    "\n",
    "# --- 3. Add Labels and Title (Good Practice) ---\n",
    "plt.title('Quick Plot Test')\n",
    "plt.xlabel('X-axis Label')\n",
    "plt.ylabel('Y-axis Label')\n",
    "plt.legend() # Displays the label defined in plt.plot()\n",
    "plt.grid(True) # Optional: adds a grid\n",
    "\n",
    "# --- 4. Show the Plot ---\n",
    "plt.show()"
   ]
  }
 ],
 "metadata": {
  "colab": {
   "provenance": []
  },
  "kernelspec": {
   "display_name": "Python 3",
   "name": "python3"
  },
  "language_info": {
   "codemirror_mode": {
    "name": "ipython",
    "version": 3
   },
   "file_extension": ".py",
   "mimetype": "text/x-python",
   "name": "python",
   "nbconvert_exporter": "python",
   "pygments_lexer": "ipython3",
   "version": "3.13.2"
  }
 },
 "nbformat": 4,
 "nbformat_minor": 0
}